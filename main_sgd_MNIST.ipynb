{
 "cells": [
  {
   "cell_type": "markdown",
   "metadata": {},
   "source": [
    "### Import useful libraries"
   ]
  },
  {
   "cell_type": "code",
   "execution_count": 1,
   "metadata": {},
   "outputs": [],
   "source": [
    "# Import useful libraries for computation\n",
    "import numpy as np\n",
    "\n",
    "# Import torch and libraries to deal with NN\n",
    "import torch\n",
    "import torch.nn as nn\n",
    "import torch.nn.functional as F\n",
    "from torch.utils.data import DataLoader\n",
    "from torchvision import datasets, transforms\n",
    "\n",
    "# Import usefil library to visualize results\n",
    "import matplotlib.pyplot as plt\n",
    "\n",
    "# Importing the LeNet5 architecture we are going to use for our study and comparisons\n",
    "from cnn_architectures import *\n",
    "\n",
    "# Importing parameters to use with different optimizers before comparing them\n",
    "import params\n",
    "\n",
    "# Importing useful functions\n",
    "from helpers import *\n",
    "\n",
    "# Ignoring warnings to make the code more readable\n",
    "import warnings\n",
    "warnings.filterwarnings(\"ignore\")\n",
    "\n",
    "%load_ext autoreload\n",
    "%autoreload 2"
   ]
  },
  {
   "cell_type": "markdown",
   "metadata": {},
   "source": [
    "### Setting the parameters and additional variables"
   ]
  },
  {
   "cell_type": "code",
   "execution_count": 2,
   "metadata": {},
   "outputs": [],
   "source": [
    "# Defininig neural network's parameters and seed for reproducibility purposes\n",
    "RANDOM_SEED = 42\n",
    "IMG_SIZE = 32\n",
    "N_CLASSES = 10\n",
    "# Checking device\n",
    "DEVICE = 'cuda' if torch.cuda.is_available() else 'cpu'"
   ]
  },
  {
   "cell_type": "markdown",
   "metadata": {},
   "source": [
    "### Loading, reshaping and plotting  data (SGD)"
   ]
  },
  {
   "cell_type": "code",
   "execution_count": 3,
   "metadata": {},
   "outputs": [],
   "source": [
    "# Loading data\n",
    "transforms = transforms.Compose([transforms.Resize(IMG_SIZE),\n",
    "                                 transforms.ToTensor()])\n",
    "\n",
    "# Load the MNIST dataset\n",
    "raw_mnist_trainset = datasets.MNIST(root='./data', train=True, download=True, transform=transforms)\n",
    "raw_mnist_testset = datasets.MNIST(root='./data', train=False, download=True, transform=transforms)\n",
    "\n",
    "# Passing train data to the dataloader\n",
    "train_loader = DataLoader(dataset=raw_mnist_trainset, \n",
    "                          batch_size=params.SGD_BATCH_SIZE, \n",
    "                          shuffle=True)\n",
    "\n",
    "# Passing test data to the dataloader\n",
    "test_loader = DataLoader(dataset=raw_mnist_testset, \n",
    "                          batch_size=params.SGD_BATCH_SIZE, \n",
    "                          shuffle=False)"
   ]
  },
  {
   "cell_type": "code",
   "execution_count": 4,
   "metadata": {},
   "outputs": [],
   "source": [
    "# Reshaping train data (from 28*28 to 32*32) for visualization purposes\n",
    "train_data, train_target = reshape_train_data(raw_mnist_trainset, DEVICE)\n",
    "# Reshaping test data (from 28*28 to 32*32) for visualization purposes\n",
    "test_data, test_target = reshape_test_data(raw_mnist_trainset, DEVICE)"
   ]
  },
  {
   "cell_type": "markdown",
   "metadata": {},
   "source": [
    "## Model training and Model Evaluation using SGD\n",
    "\n",
    "First, we train our model using LeNet5. The model was trained using batches of size 128 and 10 epochs. "
   ]
  },
  {
   "cell_type": "code",
   "execution_count": null,
   "metadata": {},
   "outputs": [],
   "source": [
    "# Initializing the model we are going to use in our study\n",
    "model = LeNet5(num_classes=N_CLASSES)\n",
    "# Defining the criterion (loss function) to be used during the training procedure\n",
    "criterion = nn.CrossEntropyLoss()\n",
    "# Defining and initializing the optimizer (ADAM in this notebook)\n",
    "optimizer = torch.optim.Adam(model.parameters(), lr=params.SGD_LEARNING_RATE)"
   ]
  },
  {
   "cell_type": "markdown",
   "metadata": {},
   "source": [
    "Let's train and test our first model"
   ]
  },
  {
   "cell_type": "code",
   "execution_count": null,
   "metadata": {},
   "outputs": [],
   "source": [
    "model, optimizer, losses, grad_norms = training_loop(model, criterion, optimizer, train_loader, test_loader, params.ADAM_N_EPOCHS,\n",
    "                                    DEVICE)"
   ]
  },
  {
   "cell_type": "code",
   "execution_count": null,
   "metadata": {},
   "outputs": [],
   "source": [
    "plot_gradient_norm(grad_norms[-30:], method = 'SGD')"
   ]
  }
 ],
 "metadata": {
  "kernelspec": {
   "display_name": "Python 3 (ipykernel)",
   "language": "python",
   "name": "python3"
  },
  "language_info": {
   "codemirror_mode": {
    "name": "ipython",
    "version": 3
   },
   "file_extension": ".py",
   "mimetype": "text/x-python",
   "name": "python",
   "nbconvert_exporter": "python",
   "pygments_lexer": "ipython3",
   "version": "3.9.16"
  }
 },
 "nbformat": 4,
 "nbformat_minor": 2
}
